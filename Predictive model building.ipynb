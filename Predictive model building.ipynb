{
 "cells": [
  {
   "cell_type": "code",
   "execution_count": 1,
   "id": "6c8cb441",
   "metadata": {},
   "outputs": [
    {
     "name": "stderr",
     "output_type": "stream",
     "text": [
      "C:\\Users\\Acer\\anaconda3\\lib\\site-packages\\xgboost\\compat.py:36: FutureWarning: pandas.Int64Index is deprecated and will be removed from pandas in a future version. Use pandas.Index with the appropriate dtype instead.\n",
      "  from pandas import MultiIndex, Int64Index\n"
     ]
    }
   ],
   "source": [
    "import pandas as pd\n",
    "import numpy as np\n",
    "import matplotlib.pyplot as plt\n",
    "import seaborn as sns\n",
    "from sklearn import metrics\n",
    "from sklearn.linear_model import LogisticRegression\n",
    "from sklearn.ensemble import RandomForestClassifier, GradientBoostingClassifier\n",
    "from sklearn.neighbors import KNeighborsClassifier\n",
    "from sklearn.tree import DecisionTreeClassifier\n",
    "from sklearn.svm import SVC\n",
    "from xgboost import XGBClassifier\n",
    "from sklearn.model_selection import train_test_split\n",
    "from sklearn.metrics import confusion_matrix\n",
    "from sklearn.preprocessing import StandardScaler\n",
    "from sklearn.model_selection import GridSearchCV\n",
    "from sklearn.metrics import recall_score, precision_score, f1_score\n",
    "from sklearn.model_selection import cross_val_score\n",
    "from sklearn.model_selection import cross_val_predict\n",
    "from sklearn.metrics import classification_report\n",
    "from sklearn.neural_network import MLPClassifier\n",
    "from sklearn.model_selection import cross_val_score, GridSearchCV\n",
    "from sklearn.metrics import accuracy_score\n",
    "from sklearn.preprocessing import label_binarize\n",
    "\n",
    "import warnings\n",
    "warnings.filterwarnings(\"ignore\")"
   ]
  },
  {
   "cell_type": "code",
   "execution_count": 71,
   "id": "d75fbdc4",
   "metadata": {},
   "outputs": [
    {
     "name": "stdout",
     "output_type": "stream",
     "text": [
      "<class 'pandas.core.frame.DataFrame'>\n",
      "RangeIndex: 1020 entries, 0 to 1019\n",
      "Data columns (total 97 columns):\n",
      " #   Column                                Non-Null Count  Dtype  \n",
      "---  ------                                --------------  -----  \n",
      " 0   Unnamed: 0.1                          1020 non-null   int64  \n",
      " 1   Unnamed: 0                            1020 non-null   int64  \n",
      " 2   submission_status                     97 non-null     object \n",
      " 3   member_name                           1020 non-null   object \n",
      " 4   membership_num                        1020 non-null   object \n",
      " 5   membership_sector                     1020 non-null   object \n",
      " 6   membership_category                   1020 non-null   object \n",
      " 7   country                               1020 non-null   object \n",
      " 8   use_palm_oil                          1020 non-null   object \n",
      " 9   select_descr_activity                 1020 non-null   object \n",
      " 10  palm_oil_activity                     1020 non-null   object \n",
      " 11  palm_oil_activity2                    57 non-null     object \n",
      " 12  subsidiary_palm_oil                   1013 non-null   object \n",
      " 13  market                                1020 non-null   object \n",
      " 14  declare_volume                        1020 non-null   object \n",
      " 15  vol_palm_oil                          1002 non-null   float64\n",
      " 16  vol_palm_kernel                       1005 non-null   float64\n",
      " 17  vol_palm_kernel_expeller              1005 non-null   float64\n",
      " 18  vol_palm_der/fraction                 1004 non-null   float64\n",
      " 19  %palm_oil_der/fract                   403 non-null    float64\n",
      " 20  %palm_kernel_der/fract                403 non-null    float64\n",
      " 21  estimate_dist_total_EU                1007 non-null   float64\n",
      " 22  estimate_dist_total_NUS               1007 non-null   float64\n",
      " 23  estimate_dist_total_MY                1007 non-null   float64\n",
      " 24  estimate_dist_total_INDO              1007 non-null   float64\n",
      " 25  estimate_dist_total_CH                1007 non-null   float64\n",
      " 26  estimate_dist_total_INDIA             1007 non-null   float64\n",
      " 27  estimate_dist_total_LUS               1007 non-null   float64\n",
      " 28  estimate_dist_total_AFR               1007 non-null   float64\n",
      " 29  estimate_dist_total_ROW               1007 non-null   float64\n",
      " 30  vol_cert_mill_cspo                    1003 non-null   float64\n",
      " 31  vol_cert_mill_cspko                   1007 non-null   float64\n",
      " 32  vol_cert_mill_cspke                   1007 non-null   float64\n",
      " 33  vol_cert_mill_palm_der/fraction       1007 non-null   float64\n",
      " 34  vol_cert_ind_cspo                     1004 non-null   float64\n",
      " 35  vol_cert_ind_cspko                    1006 non-null   float64\n",
      " 36  vol_cert_ind_cspke                    1007 non-null   float64\n",
      " 37  vol_cert_ind_palm_der/fraction        1007 non-null   float64\n",
      " 38  vol_cert_mb_cspo                      1004 non-null   float64\n",
      " 39  vol_cert_mb_cspko                     1006 non-null   float64\n",
      " 40  vol_cert_mb_cspke                     1007 non-null   float64\n",
      " 41  vol_cert_mb_palm_der/fraction         1007 non-null   float64\n",
      " 42  vol_cert_sg_cspo                      1005 non-null   float64\n",
      " 43  vol_cert_sg_cspko                     1007 non-null   float64\n",
      " 44  vol_cert_sg_cspke                     1007 non-null   float64\n",
      " 45  vol_cert_sg_palm_der/fraction         1006 non-null   float64\n",
      " 46  vol_cert_ip_cspo                      1006 non-null   float64\n",
      " 47  vol_cert_ip_cspko                     1007 non-null   float64\n",
      " 48  vol_cert_ip_cspke                     1007 non-null   float64\n",
      " 49  vol_cert_ip_palm_der/fraction         1006 non-null   float64\n",
      " 50  %cert_palm_oil_der/fract              358 non-null    float64\n",
      " 51  %cert_palm_kernel_der/fract           358 non-null    float64\n",
      " 52  cert_palm_oil_uptake                  1007 non-null   float64\n",
      " 53  info_cover_rspo_credit                763 non-null    object \n",
      " 54  estimate_dist_cert_EU                 966 non-null    float64\n",
      " 55  estimate_dist_cert_NUS                966 non-null    float64\n",
      " 56  estimate_dist_cert_MY                 966 non-null    float64\n",
      " 57  estimate_dist_cert_INDO               966 non-null    float64\n",
      " 58  estimate_dist_cert_CH                 966 non-null    float64\n",
      " 59  estimate_dist_cert_INDIA              966 non-null    float64\n",
      " 60  estimate_dist_cert_LUS                966 non-null    float64\n",
      " 61  estimate_dist_cert_AFR                966 non-null    float64\n",
      " 62  estimate_dist_cert_ROW                966 non-null    float64\n",
      " 63  year_achieve_supplycert               1020 non-null   int64  \n",
      " 64  year_use_cert_oil                     836 non-null    float64\n",
      " 65  why_use_cert_oil_not_met              435 non-null    object \n",
      " 66  year_use_100%cert_supplychain         836 non-null    float64\n",
      " 67  why_use_100%cert_supplychain_not_met  452 non-null    object \n",
      " 68  year_use_cert_ismb                    774 non-null    float64\n",
      " 69  why_use_cert_ismb_not_met             462 non-null    object \n",
      " 70  why_timebound_not_cover_countries     402 non-null    object \n",
      " 71  cert_on_behalf                        700 non-null    object \n",
      " 72  timebound_behalf                      700 non-null    object \n",
      " 73  behalf_only_cert                      384 non-null    float64\n",
      " 74  why_no_timebound                      272 non-null    object \n",
      " 75  use_rspo_trademark                    1020 non-null   object \n",
      " 76  countries_use_trademark               239 non-null    object \n",
      " 77  year_use_trademark                    231 non-null    float64\n",
      " 78  why_no_trademark                      603 non-null    object \n",
      " 79  why_no_trademark2                     174 non-null    object \n",
      " 80  activities_promote                    959 non-null    object \n",
      " 81  year_use_cert_oil_since2007           836 non-null    float64\n",
      " 82  uncert_palm_oil_uptake                1007 non-null   float64\n",
      " 83  num_market                            1020 non-null   int64  \n",
      " 84  uptake_binned                         937 non-null    object \n",
      " 85  country_sub                           1020 non-null   object \n",
      " 86  select_descr_activity_num             1020 non-null   int64  \n",
      " 87  palm_oil_activity_num                 1020 non-null   int64  \n",
      " 88  year_use_cert_oil_yes                 1020 non-null   object \n",
      " 89  year_achieve_supplycert_yes           1020 non-null   object \n",
      " 90  year_use_cert_ismb_yes                1020 non-null   object \n",
      " 91  year_use_100%cert_supplychain_yes     1020 non-null   object \n",
      " 92  percent_mill                          940 non-null    float64\n",
      " 93  percent_ind                           940 non-null    float64\n",
      " 94  percent_mb                            940 non-null    float64\n",
      " 95  percent_sg                            940 non-null    float64\n",
      " 96  percent_ip                            940 non-null    float64\n",
      "dtypes: float64(59), int64(6), object(32)\n",
      "memory usage: 773.1+ KB\n"
     ]
    }
   ],
   "source": [
    "df = pd.read_excel('C:/Users/Acer/Downloads/rspo/df_2020.xlsx')\n",
    "df.info()"
   ]
  },
  {
   "cell_type": "code",
   "execution_count": 5,
   "id": "c9751d24",
   "metadata": {},
   "outputs": [],
   "source": [
    "df = df[(df['membership_sector'] == 'Consumer Goods Manufacturers')]"
   ]
  },
  {
   "cell_type": "code",
   "execution_count": 4,
   "id": "d96e0f5d",
   "metadata": {},
   "outputs": [],
   "source": [
    "df2 = pd.read_excel(\"parsed___2020.xlsx\")"
   ]
  },
  {
   "cell_type": "code",
   "execution_count": 6,
   "id": "6e13ccc8",
   "metadata": {},
   "outputs": [],
   "source": [
    "df2 = df2[(df2['membership_sector'] == 'Consumer Goods Manufacturers')]"
   ]
  },
  {
   "cell_type": "code",
   "execution_count": 7,
   "id": "3e112b86",
   "metadata": {},
   "outputs": [
    {
     "name": "stdout",
     "output_type": "stream",
     "text": [
      "<class 'pandas.core.frame.DataFrame'>\n",
      "Int64Index: 753 entries, 0 to 752\n",
      "Data columns (total 83 columns):\n",
      " #   Column                                Non-Null Count  Dtype  \n",
      "---  ------                                --------------  -----  \n",
      " 0   Unnamed: 0                            753 non-null    int64  \n",
      " 1   submission_status                     87 non-null     object \n",
      " 2   member_name                           753 non-null    object \n",
      " 3   membership_num                        753 non-null    object \n",
      " 4   membership_sector                     753 non-null    object \n",
      " 5   membership_category                   753 non-null    object \n",
      " 6   country                               753 non-null    object \n",
      " 7   use_palm_oil                          753 non-null    object \n",
      " 8   select_descr_activity                 753 non-null    object \n",
      " 9   palm_oil_activity                     753 non-null    object \n",
      " 10  palm_oil_activity2                    44 non-null     object \n",
      " 11  subsidiary_palm_oil                   749 non-null    object \n",
      " 12  market                                753 non-null    object \n",
      " 13  declare_volume                        753 non-null    object \n",
      " 14  vol_palm_oil                          738 non-null    float64\n",
      " 15  vol_palm_kernel                       740 non-null    float64\n",
      " 16  vol_palm_kernel_expeller              741 non-null    float64\n",
      " 17  vol_palm_der/fraction                 739 non-null    float64\n",
      " 18  %palm_oil_der/fract                   308 non-null    float64\n",
      " 19  %palm_kernel_der/fract                308 non-null    float64\n",
      " 20  estimate_dist_total_EU                742 non-null    float64\n",
      " 21  estimate_dist_total_NUS               742 non-null    float64\n",
      " 22  estimate_dist_total_MY                742 non-null    float64\n",
      " 23  estimate_dist_total_INDO              742 non-null    float64\n",
      " 24  estimate_dist_total_CH                742 non-null    float64\n",
      " 25  estimate_dist_total_INDIA             742 non-null    float64\n",
      " 26  estimate_dist_total_LUS               742 non-null    float64\n",
      " 27  estimate_dist_total_AFR               742 non-null    float64\n",
      " 28  estimate_dist_total_ROW               742 non-null    float64\n",
      " 29  vol_cert_mill_cspo                    738 non-null    float64\n",
      " 30  vol_cert_mill_cspko                   742 non-null    float64\n",
      " 31  vol_cert_mill_cspke                   742 non-null    float64\n",
      " 32  vol_cert_mill_palm_der/fraction       742 non-null    float64\n",
      " 33  vol_cert_ind_cspo                     739 non-null    float64\n",
      " 34  vol_cert_ind_cspko                    741 non-null    float64\n",
      " 35  vol_cert_ind_cspke                    742 non-null    float64\n",
      " 36  vol_cert_ind_palm_der/fraction        742 non-null    float64\n",
      " 37  vol_cert_mb_cspo                      740 non-null    float64\n",
      " 38  vol_cert_mb_cspko                     741 non-null    float64\n",
      " 39  vol_cert_mb_cspke                     742 non-null    float64\n",
      " 40  vol_cert_mb_palm_der/fraction         742 non-null    float64\n",
      " 41  vol_cert_sg_cspo                      741 non-null    float64\n",
      " 42  vol_cert_sg_cspko                     742 non-null    float64\n",
      " 43  vol_cert_sg_cspke                     742 non-null    float64\n",
      " 44  vol_cert_sg_palm_der/fraction         741 non-null    float64\n",
      " 45  vol_cert_ip_cspo                      742 non-null    float64\n",
      " 46  vol_cert_ip_cspko                     742 non-null    float64\n",
      " 47  vol_cert_ip_cspke                     742 non-null    float64\n",
      " 48  vol_cert_ip_palm_der/fraction         741 non-null    float64\n",
      " 49  %cert_palm_oil_der/fract              273 non-null    float64\n",
      " 50  %cert_palm_kernel_der/fract           273 non-null    float64\n",
      " 51  cert_palm_oil_uptake                  742 non-null    float64\n",
      " 52  info_cover_rspo_credit                565 non-null    object \n",
      " 53  estimate_dist_cert_EU                 719 non-null    float64\n",
      " 54  estimate_dist_cert_NUS                719 non-null    float64\n",
      " 55  estimate_dist_cert_MY                 719 non-null    float64\n",
      " 56  estimate_dist_cert_INDO               719 non-null    float64\n",
      " 57  estimate_dist_cert_CH                 719 non-null    float64\n",
      " 58  estimate_dist_cert_INDIA              719 non-null    float64\n",
      " 59  estimate_dist_cert_LUS                719 non-null    float64\n",
      " 60  estimate_dist_cert_AFR                719 non-null    float64\n",
      " 61  estimate_dist_cert_ROW                719 non-null    float64\n",
      " 62  year_achieve_supplycert               753 non-null    int64  \n",
      " 63  year_use_cert_oil                     626 non-null    float64\n",
      " 64  why_use_cert_oil_not_met              336 non-null    object \n",
      " 65  year_use_100%cert_supplychain         626 non-null    float64\n",
      " 66  why_use_100%cert_supplychain_not_met  347 non-null    object \n",
      " 67  year_use_cert_ismb                    584 non-null    float64\n",
      " 68  why_use_cert_ismb_not_met             361 non-null    object \n",
      " 69  why_timebound_not_cover_countries     314 non-null    object \n",
      " 70  cert_on_behalf                        523 non-null    object \n",
      " 71  timebound_behalf                      523 non-null    object \n",
      " 72  behalf_only_cert                      299 non-null    float64\n",
      " 73  why_no_timebound                      198 non-null    object \n",
      " 74  use_rspo_trademark                    753 non-null    object \n",
      " 75  countries_use_trademark               170 non-null    object \n",
      " 76  year_use_trademark                    166 non-null    float64\n",
      " 77  why_no_trademark                      460 non-null    object \n",
      " 78  why_no_trademark2                     135 non-null    object \n",
      " 79  activities_promote                    714 non-null    object \n",
      " 80  year_use_cert_oil_since2007           626 non-null    float64\n",
      " 81  uncert_palm_oil_uptake                742 non-null    float64\n",
      " 82  num_market                            753 non-null    int64  \n",
      "dtypes: float64(54), int64(3), object(26)\n",
      "memory usage: 494.2+ KB\n"
     ]
    }
   ],
   "source": [
    "df2.info()"
   ]
  },
  {
   "cell_type": "code",
   "execution_count": 8,
   "id": "9dc2bd2b",
   "metadata": {},
   "outputs": [],
   "source": [
    "df['vol_total'] = df2['vol_palm_oil']+df2['vol_palm_kernel']+df2['vol_palm_kernel_expeller']+df2['vol_palm_der/fraction']"
   ]
  },
  {
   "cell_type": "code",
   "execution_count": 9,
   "id": "8db035d8",
   "metadata": {},
   "outputs": [],
   "source": [
    "df['uptake_binned_cor']=pd.cut(x=df['cert_palm_oil_uptake'], bins=[-1,0.25,0.5,0.75,2], labels=[3, 2, 1,0])\n",
    "#df['uptake_binned_cor']  = df['cert_palm_oil_uptake'].apply(lambda x:0 if x<1 else 1 )"
   ]
  },
  {
   "cell_type": "code",
   "execution_count": 10,
   "id": "016cc9be",
   "metadata": {},
   "outputs": [
    {
     "data": {
      "text/plain": [
       "0      0\n",
       "1      0\n",
       "2      0\n",
       "3      0\n",
       "4      0\n",
       "      ..\n",
       "748    0\n",
       "749    3\n",
       "750    0\n",
       "751    3\n",
       "752    2\n",
       "Name: uptake_binned_cor, Length: 753, dtype: category\n",
       "Categories (4, int64): [3 < 2 < 1 < 0]"
      ]
     },
     "execution_count": 10,
     "metadata": {},
     "output_type": "execute_result"
    }
   ],
   "source": [
    "df['uptake_binned_cor']"
   ]
  },
  {
   "cell_type": "code",
   "execution_count": 11,
   "id": "97e7b6ed",
   "metadata": {},
   "outputs": [
    {
     "data": {
      "text/plain": [
       "<AxesSubplot:xlabel='uptake_binned_cor', ylabel='count'>"
      ]
     },
     "execution_count": 11,
     "metadata": {},
     "output_type": "execute_result"
    },
    {
     "data": {
      "image/png": "[encoded data removed]",
      "text/plain": [
       "<Figure size 432x288 with 1 Axes>"
      ]
     },
     "metadata": {
      "needs_background": "light"
     },
     "output_type": "display_data"
    }
   ],
   "source": [
    "sns.countplot(x=df[\"uptake_binned_cor\"])"
   ]
  },
  {
   "cell_type": "code",
   "execution_count": 13,
   "id": "81846a7b",
   "metadata": {},
   "outputs": [
    {
     "data": {
      "text/plain": [
       "Index(['Unnamed: 0.1', 'Unnamed: 0', 'submission_status', 'member_name',\n",
       "       'membership_num', 'membership_sector', 'membership_category', 'country',\n",
       "       'use_palm_oil', 'select_descr_activity', 'palm_oil_activity',\n",
       "       'palm_oil_activity2', 'subsidiary_palm_oil', 'market', 'declare_volume',\n",
       "       'vol_palm_oil', 'vol_palm_kernel', 'vol_palm_kernel_expeller',\n",
       "       'vol_palm_der/fraction', '%palm_oil_der/fract',\n",
       "       '%palm_kernel_der/fract', 'estimate_dist_total_EU',\n",
       "       'estimate_dist_total_NUS', 'estimate_dist_total_MY',\n",
       "       'estimate_dist_total_INDO', 'estimate_dist_total_CH',\n",
       "       'estimate_dist_total_INDIA', 'estimate_dist_total_LUS',\n",
       "       'estimate_dist_total_AFR', 'estimate_dist_total_ROW',\n",
       "       'vol_cert_mill_cspo', 'vol_cert_mill_cspko', 'vol_cert_mill_cspke',\n",
       "       'vol_cert_mill_palm_der/fraction', 'vol_cert_ind_cspo',\n",
       "       'vol_cert_ind_cspko', 'vol_cert_ind_cspke',\n",
       "       'vol_cert_ind_palm_der/fraction', 'vol_cert_mb_cspo',\n",
       "       'vol_cert_mb_cspko', 'vol_cert_mb_cspke',\n",
       "       'vol_cert_mb_palm_der/fraction', 'vol_cert_sg_cspo',\n",
       "       'vol_cert_sg_cspko', 'vol_cert_sg_cspke',\n",
       "       'vol_cert_sg_palm_der/fraction', 'vol_cert_ip_cspo',\n",
       "       'vol_cert_ip_cspko', 'vol_cert_ip_cspke',\n",
       "       'vol_cert_ip_palm_der/fraction', '%cert_palm_oil_der/fract',\n",
       "       '%cert_palm_kernel_der/fract', 'cert_palm_oil_uptake',\n",
       "       'info_cover_rspo_credit', 'estimate_dist_cert_EU',\n",
       "       'estimate_dist_cert_NUS', 'estimate_dist_cert_MY',\n",
       "       'estimate_dist_cert_INDO', 'estimate_dist_cert_CH',\n",
       "       'estimate_dist_cert_INDIA', 'estimate_dist_cert_LUS',\n",
       "       'estimate_dist_cert_AFR', 'estimate_dist_cert_ROW',\n",
       "       'year_achieve_supplycert', 'year_use_cert_oil',\n",
       "       'why_use_cert_oil_not_met', 'year_use_100%cert_supplychain',\n",
       "       'why_use_100%cert_supplychain_not_met', 'year_use_cert_ismb',\n",
       "       'why_use_cert_ismb_not_met', 'why_timebound_not_cover_countries',\n",
       "       'cert_on_behalf', 'timebound_behalf', 'behalf_only_cert',\n",
       "       'why_no_timebound', 'use_rspo_trademark', 'countries_use_trademark',\n",
       "       'year_use_trademark', 'why_no_trademark', 'why_no_trademark2',\n",
       "       'activities_promote', 'year_use_cert_oil_since2007',\n",
       "       'uncert_palm_oil_uptake', 'num_market', 'uptake_binned', 'country_sub',\n",
       "       'select_descr_activity_num', 'palm_oil_activity_num',\n",
       "       'year_use_cert_oil_yes', 'year_achieve_supplycert_yes',\n",
       "       'year_use_cert_ismb_yes', 'year_use_100%cert_supplychain_yes',\n",
       "       'percent_mill', 'percent_ind', 'percent_mb', 'percent_sg', 'percent_ip',\n",
       "       'vol_total', 'uptake_binned_cor'],\n",
       "      dtype='object')"
      ]
     },
     "execution_count": 13,
     "metadata": {},
     "output_type": "execute_result"
    }
   ],
   "source": [
    "df.columns"
   ]
  },
  {
   "cell_type": "code",
   "execution_count": 14,
   "id": "2e94fa51",
   "metadata": {},
   "outputs": [],
   "source": [
    "df1 = df[['membership_category','country_sub',\n",
    "          'palm_oil_activity_num','num_market','percent_mill', 'percent_ind', 'percent_mb', 'percent_sg',\n",
    "          'percent_ip','estimate_dist_total_EU',\n",
    "       'estimate_dist_total_NUS', 'estimate_dist_total_MY',\n",
    "       'estimate_dist_total_INDO', 'estimate_dist_total_CH',\n",
    "       'estimate_dist_total_INDIA', 'estimate_dist_total_LUS',\n",
    "       'estimate_dist_total_AFR', 'estimate_dist_total_ROW','estimate_dist_cert_EU','estimate_dist_cert_NUS', 'estimate_dist_cert_MY',\n",
    "          'estimate_dist_cert_INDO', 'estimate_dist_cert_CH',\n",
    "          'estimate_dist_cert_INDIA', 'estimate_dist_cert_LUS',\n",
    "          'estimate_dist_cert_AFR', 'estimate_dist_cert_ROW','year_use_cert_oil_yes', 'year_achieve_supplycert_yes',\n",
    "          'year_use_cert_ismb_yes', 'year_use_100%cert_supplychain_yes','vol_total','use_rspo_trademark','uptake_binned_cor']]\n"
   ]
  },
  {
   "cell_type": "code",
   "execution_count": 15,
   "id": "afc5bb4d",
   "metadata": {},
   "outputs": [],
   "source": [
    "df_num = df1[['palm_oil_activity_num', 'num_market',\n",
    "       'percent_mill', 'percent_ind', 'percent_mb', 'percent_sg', 'percent_ip','estimate_dist_total_EU',\n",
    "       'estimate_dist_total_NUS', 'estimate_dist_total_MY',\n",
    "       'estimate_dist_total_INDO', 'estimate_dist_total_CH',\n",
    "       'estimate_dist_total_INDIA', 'estimate_dist_total_LUS',\n",
    "       'estimate_dist_total_AFR', 'estimate_dist_total_ROW',\n",
    "       'estimate_dist_cert_EU', 'estimate_dist_cert_NUS',\n",
    "       'estimate_dist_cert_MY', 'estimate_dist_cert_INDO',\n",
    "       'estimate_dist_cert_CH', 'estimate_dist_cert_INDIA',\n",
    "       'estimate_dist_cert_LUS', 'estimate_dist_cert_AFR',\n",
    "       'estimate_dist_cert_ROW','vol_total']]"
   ]
  },
  {
   "cell_type": "code",
   "execution_count": 22,
   "id": "9e29ed23",
   "metadata": {},
   "outputs": [
    {
     "name": "stdout",
     "output_type": "stream",
     "text": [
      "<class 'pandas.core.frame.DataFrame'>\n",
      "Int64Index: 753 entries, 0 to 752\n",
      "Data columns (total 8 columns):\n",
      " #   Column                             Non-Null Count  Dtype   \n",
      "---  ------                             --------------  -----   \n",
      " 0   membership_category                753 non-null    object  \n",
      " 1   country_sub                        753 non-null    object  \n",
      " 2   year_use_cert_oil_yes              753 non-null    object  \n",
      " 3   year_achieve_supplycert_yes        753 non-null    object  \n",
      " 4   year_use_cert_ismb_yes             753 non-null    object  \n",
      " 5   year_use_100%cert_supplychain_yes  753 non-null    object  \n",
      " 6   use_rspo_trademark                 753 non-null    object  \n",
      " 7   uptake_binned_cor                  742 non-null    category\n",
      "dtypes: category(1), object(7)\n",
      "memory usage: 48.0+ KB\n"
     ]
    }
   ],
   "source": [
    "df_cat.info()"
   ]
  },
  {
   "cell_type": "code",
   "execution_count": 19,
   "id": "4850ffb1",
   "metadata": {},
   "outputs": [],
   "source": [
    "df_num = df_num.fillna(df_num.median())"
   ]
  },
  {
   "cell_type": "code",
   "execution_count": 17,
   "id": "9d05682e",
   "metadata": {},
   "outputs": [],
   "source": [
    "df_cat = df1[['membership_category', 'country_sub',\n",
    "       'year_use_cert_oil_yes', 'year_achieve_supplycert_yes',\n",
    "       'year_use_cert_ismb_yes', 'year_use_100%cert_supplychain_yes','use_rspo_trademark',\n",
    "       'uptake_binned_cor']]"
   ]
  },
  {
   "cell_type": "code",
   "execution_count": 23,
   "id": "7700036b",
   "metadata": {},
   "outputs": [],
   "source": [
    "df_all = pd.concat([df_num,df_cat], axis=1)"
   ]
  },
  {
   "cell_type": "code",
   "execution_count": 24,
   "id": "268ca84d",
   "metadata": {},
   "outputs": [],
   "source": [
    "df_all = df_all.dropna(subset=['uptake_binned_cor'])"
   ]
  },
  {
   "cell_type": "code",
   "execution_count": null,
   "id": "41275025",
   "metadata": {},
   "outputs": [],
   "source": [
    "df_all"
   ]
  },
  {
   "cell_type": "code",
   "execution_count": 25,
   "id": "249f65c7",
   "metadata": {},
   "outputs": [
    {
     "name": "stdout",
     "output_type": "stream",
     "text": [
      "<class 'pandas.core.frame.DataFrame'>\n",
      "Int64Index: 742 entries, 0 to 752\n",
      "Data columns (total 34 columns):\n",
      " #   Column                             Non-Null Count  Dtype   \n",
      "---  ------                             --------------  -----   \n",
      " 0   palm_oil_activity_num              742 non-null    int64   \n",
      " 1   num_market                         742 non-null    int64   \n",
      " 2   percent_mill                       742 non-null    float64 \n",
      " 3   percent_ind                        742 non-null    float64 \n",
      " 4   percent_mb                         742 non-null    float64 \n",
      " 5   percent_sg                         742 non-null    float64 \n",
      " 6   percent_ip                         742 non-null    float64 \n",
      " 7   estimate_dist_total_EU             742 non-null    float64 \n",
      " 8   estimate_dist_total_NUS            742 non-null    float64 \n",
      " 9   estimate_dist_total_MY             742 non-null    float64 \n",
      " 10  estimate_dist_total_INDO           742 non-null    float64 \n",
      " 11  estimate_dist_total_CH             742 non-null    float64 \n",
      " 12  estimate_dist_total_INDIA          742 non-null    float64 \n",
      " 13  estimate_dist_total_LUS            742 non-null    float64 \n",
      " 14  estimate_dist_total_AFR            742 non-null    float64 \n",
      " 15  estimate_dist_total_ROW            742 non-null    float64 \n",
      " 16  estimate_dist_cert_EU              742 non-null    float64 \n",
      " 17  estimate_dist_cert_NUS             742 non-null    float64 \n",
      " 18  estimate_dist_cert_MY              742 non-null    float64 \n",
      " 19  estimate_dist_cert_INDO            742 non-null    float64 \n",
      " 20  estimate_dist_cert_CH              742 non-null    float64 \n",
      " 21  estimate_dist_cert_INDIA           742 non-null    float64 \n",
      " 22  estimate_dist_cert_LUS             742 non-null    float64 \n",
      " 23  estimate_dist_cert_AFR             742 non-null    float64 \n",
      " 24  estimate_dist_cert_ROW             742 non-null    float64 \n",
      " 25  vol_total                          742 non-null    float64 \n",
      " 26  membership_category                742 non-null    object  \n",
      " 27  country_sub                        742 non-null    object  \n",
      " 28  year_use_cert_oil_yes              742 non-null    object  \n",
      " 29  year_achieve_supplycert_yes        742 non-null    object  \n",
      " 30  year_use_cert_ismb_yes             742 non-null    object  \n",
      " 31  year_use_100%cert_supplychain_yes  742 non-null    object  \n",
      " 32  use_rspo_trademark                 742 non-null    object  \n",
      " 33  uptake_binned_cor                  742 non-null    category\n",
      "dtypes: category(1), float64(24), int64(2), object(7)\n",
      "memory usage: 198.0+ KB\n"
     ]
    }
   ],
   "source": [
    "df_all.info()"
   ]
  },
  {
   "cell_type": "code",
   "execution_count": 26,
   "id": "52bdc7eb",
   "metadata": {},
   "outputs": [],
   "source": [
    "CatCols=['membership_category', 'country_sub',\n",
    "       'year_use_cert_oil_yes', 'year_achieve_supplycert_yes',\n",
    "       'year_use_cert_ismb_yes', 'year_use_100%cert_supplychain_yes','use_rspo_trademark',\n",
    "       'uptake_binned_cor']\n",
    "NumCols=list(set(df_all.columns)-set(CatCols))\n",
    "df_all[NumCols]=df_all[NumCols].astype('float')\n",
    "df_all[CatCols]=df_all[CatCols].astype('category')"
   ]
  },
  {
   "cell_type": "code",
   "execution_count": 27,
   "id": "169ab6d0",
   "metadata": {},
   "outputs": [
    {
     "data": {
      "text/plain": [
       "palm_oil_activity_num         0.826281\n",
       "num_market                    1.392426\n",
       "percent_mill                  3.692616\n",
       "percent_ind                   8.793921\n",
       "percent_mb                   -0.084981\n",
       "percent_sg                    0.528194\n",
       "percent_ip                   16.894976\n",
       "estimate_dist_total_EU       -0.492949\n",
       "estimate_dist_total_NUS       1.750811\n",
       "estimate_dist_total_MY        8.343284\n",
       "estimate_dist_total_INDO     10.527618\n",
       "estimate_dist_total_CH       13.345698\n",
       "estimate_dist_total_INDIA    14.948938\n",
       "estimate_dist_total_LUS       7.485820\n",
       "estimate_dist_total_AFR       6.562247\n",
       "estimate_dist_total_ROW       2.460463\n",
       "estimate_dist_cert_EU        -0.659775\n",
       "estimate_dist_cert_NUS        1.787291\n",
       "estimate_dist_cert_MY         9.999475\n",
       "estimate_dist_cert_INDO      10.534996\n",
       "estimate_dist_cert_CH        13.227733\n",
       "estimate_dist_cert_INDIA     15.573438\n",
       "estimate_dist_cert_LUS        9.091973\n",
       "estimate_dist_cert_AFR        7.157459\n",
       "estimate_dist_cert_ROW        2.602369\n",
       "vol_total                     9.715608\n",
       "dtype: float64"
      ]
     },
     "execution_count": 27,
     "metadata": {},
     "output_type": "execute_result"
    }
   ],
   "source": [
    "df_num.skew()"
   ]
  },
  {
   "cell_type": "code",
   "execution_count": null,
   "id": "257fef26",
   "metadata": {},
   "outputs": [],
   "source": [
    "for i in df_num.columns:\n",
    "    plt.boxplot(df_num[i])\n",
    "    plt.title(i)\n",
    "    plt.show()"
   ]
  },
  {
   "cell_type": "code",
   "execution_count": 44,
   "id": "b927aa50",
   "metadata": {},
   "outputs": [],
   "source": [
    "# define X and Y\n",
    "X = df_all.drop('uptake_binned_cor', axis=1)\n",
    "y = df_all['uptake_binned_cor']"
   ]
  },
  {
   "cell_type": "code",
   "execution_count": 45,
   "id": "76c5b61d",
   "metadata": {},
   "outputs": [],
   "source": [
    "# split data into 75/25 train/test\n",
    "X_train, X_test, y_train, y_test = train_test_split(X, y, test_size=0.25, random_state=42, stratify=y)\n"
   ]
  },
  {
   "cell_type": "code",
   "execution_count": 76,
   "id": "f0b81b5a",
   "metadata": {},
   "outputs": [
    {
     "data": {
      "text/plain": [
       "430    2\n",
       "985    3\n",
       "824    0\n",
       "693    0\n",
       "746    3\n",
       "      ..\n",
       "10     0\n",
       "149    3\n",
       "158    0\n",
       "838    0\n",
       "937    0\n",
       "Name: uptake_binned_cor, Length: 755, dtype: category\n",
       "Categories (4, int64): [3 < 2 < 1 < 0]"
      ]
     },
     "execution_count": 76,
     "metadata": {},
     "output_type": "execute_result"
    }
   ],
   "source": [
    "y_train"
   ]
  },
  {
   "cell_type": "code",
   "execution_count": 48,
   "id": "ec4b7c52",
   "metadata": {},
   "outputs": [],
   "source": [
    "# Dummy Variables on Train Set\n",
    "X_dummy = pd.get_dummies(X_train, drop_first=False)\n",
    "X_dummy\n",
    "# Scale data\n",
    "from sklearn.preprocessing import MinMaxScaler\n",
    "scaler = MinMaxScaler().fit(X_dummy)\n",
    "X_scaled = scaler.transform(X_dummy)\n",
    "\n",
    "# Dummy variable on Test Set\n",
    "X_testdummy = pd.get_dummies(X_test, drop_first=False)\n",
    "X_testdummy\n",
    "# scale test data\n",
    "X_testscaled = scaler.transform(X_testdummy)"
   ]
  },
  {
   "cell_type": "code",
   "execution_count": null,
   "id": "4c9e9699",
   "metadata": {},
   "outputs": [],
   "source": [
    "# Correlation with target variable\n",
    "print(\"Correlation with Product Uptake:\\n\")\n",
    "corr_scores = X_dummy.corrwith(df.uptake_binned_cor)\n",
    "corr_scores = corr_scores.sort_values(ascending=False)\n",
    "print(corr_scores)"
   ]
  },
  {
   "cell_type": "code",
   "execution_count": 48,
   "id": "78f1a1c8",
   "metadata": {},
   "outputs": [
    {
     "data": {
      "text/plain": [
       "vol_total                                                                                 0.072397\n",
       "membership_category_Ordinary                                                              0.044045\n",
       "country_sub_Latin America                                                                 0.029042\n",
       "country_sub_North America                                                                 0.020107\n",
       "year_achieve_supplycert_yes_yes                                                           0.018169\n",
       "year_use_cert_ismb_yes_no                                                                 0.015579\n",
       "country_sub_Malaysia                                                                      0.015049\n",
       "select_descr_activity_num                                                                 0.012400\n",
       "country_sub_Europe                                                                        0.011668\n",
       "country_sub_India                                                                         0.009295\n",
       "membership_sector_Palm Oil Processors and/or Traders                                      0.008205\n",
       "estimate_dist_cert_EU                                                                     0.006668\n",
       "estimate_dist_cert_AFR                                                                    0.004286\n",
       "estimate_dist_cert_INDIA                                                                  0.000524\n",
       "estimate_dist_cert_INDO                                                                   0.000000\n",
       "year_use_cert_oil_yes_yes                                                                 0.000000\n",
       "year_use_cert_oil_yes_no                                                                  0.000000\n",
       "country_sub_Rest of the World                                                             0.000000\n",
       "estimate_dist_cert_LUS                                                                    0.000000\n",
       "total_percent                                                                             0.000000\n",
       "country_sub_Indonesia                                                                     0.000000\n",
       "membership_sector_Consumer Goods Manufacturers                                            0.000000\n",
       "country_sub_China                                                                         0.000000\n",
       "country_sub_Africa                                                                        0.000000\n",
       "palm_oil_activity_num                                                                     0.000000\n",
       "membership_sector_Social or Development Organisations (Non Governmental Organisations)    0.000000\n",
       "membership_sector_Retailers                                                               0.000000\n",
       "membership_sector_Oil Palm Growers                                                        0.000000\n",
       "year_use_cert_ismb_yes_yes                                                                0.000000\n",
       "Name: MI Scores, dtype: float64"
      ]
     },
     "execution_count": 48,
     "metadata": {},
     "output_type": "execute_result"
    }
   ],
   "source": [
    "from sklearn.feature_selection import mutual_info_classif\n",
    "\n",
    "def make_mi_scores(X, y):\n",
    "    mi_scores = mutual_info_classif(X_dummy, y_train)\n",
    "    mi_scores = pd.Series(mi_scores, name=\"MI Scores\", index=X.columns)\n",
    "    mi_scores = mi_scores.sort_values(ascending=False)\n",
    "    return mi_scores\n",
    "\n",
    "mi_scores = make_mi_scores(X_dummy, y_train)\n",
    "mi_scores[::]  # show a few features with their MI scores"
   ]
  },
  {
   "cell_type": "code",
   "execution_count": 37,
   "id": "61bb0a5e",
   "metadata": {},
   "outputs": [],
   "source": [
    "X_dummy = X_dummy.drop(['year_use_100%cert_supplychain_yes_yes','num_market','estimate_dist_cert_NUS','estimate_dist_cert_MY','estimate_dist_cert_CH',\n",
    "                         'estimate_dist_cert_ROW','membership_category_Associate','membership_sector_Supply Chain Associate','year_use_100%cert_supplychain_yes_no'],axis=1)"
   ]
  },
  {
   "cell_type": "code",
   "execution_count": 39,
   "id": "35e03822",
   "metadata": {},
   "outputs": [],
   "source": [
    "X_testdummy = X_testdummy.drop(['year_use_100%cert_supplychain_yes_yes','num_market','estimate_dist_cert_NUS','estimate_dist_cert_MY','estimate_dist_cert_CH',\n",
    "                         'estimate_dist_cert_ROW','membership_category_Associate','membership_sector_Supply Chain Associate','year_use_100%cert_supplychain_yes_no'],axis=1)"
   ]
  },
  {
   "cell_type": "code",
   "execution_count": 38,
   "id": "41f45a7f",
   "metadata": {},
   "outputs": [
    {
     "data": {
      "text/html": [
       "<div>\n",
       "<style scoped>\n",
       "    .dataframe tbody tr th:only-of-type {\n",
       "        vertical-align: middle;\n",
       "    }\n",
       "\n",
       "    .dataframe tbody tr th {\n",
       "        vertical-align: top;\n",
       "    }\n",
       "\n",
       "    .dataframe thead th {\n",
       "        text-align: right;\n",
       "    }\n",
       "</style>\n",
       "<table border=\"1\" class=\"dataframe\">\n",
       "  <thead>\n",
       "    <tr style=\"text-align: right;\">\n",
       "      <th></th>\n",
       "      <th>select_descr_activity_num</th>\n",
       "      <th>palm_oil_activity_num</th>\n",
       "      <th>estimate_dist_cert_EU</th>\n",
       "      <th>estimate_dist_cert_INDO</th>\n",
       "      <th>estimate_dist_cert_INDIA</th>\n",
       "      <th>estimate_dist_cert_LUS</th>\n",
       "      <th>estimate_dist_cert_AFR</th>\n",
       "      <th>vol_total</th>\n",
       "      <th>total_percent</th>\n",
       "      <th>membership_sector_Consumer Goods Manufacturers</th>\n",
       "      <th>...</th>\n",
       "      <th>country_sub_Indonesia</th>\n",
       "      <th>country_sub_Latin America</th>\n",
       "      <th>country_sub_Malaysia</th>\n",
       "      <th>country_sub_North America</th>\n",
       "      <th>country_sub_Rest of the World</th>\n",
       "      <th>year_use_cert_oil_yes_no</th>\n",
       "      <th>year_use_cert_oil_yes_yes</th>\n",
       "      <th>year_achieve_supplycert_yes_yes</th>\n",
       "      <th>year_use_cert_ismb_yes_no</th>\n",
       "      <th>year_use_cert_ismb_yes_yes</th>\n",
       "    </tr>\n",
       "  </thead>\n",
       "  <tbody>\n",
       "    <tr>\n",
       "      <th>536</th>\n",
       "      <td>1.0</td>\n",
       "      <td>2.0</td>\n",
       "      <td>100.0</td>\n",
       "      <td>0.0</td>\n",
       "      <td>0.0</td>\n",
       "      <td>0.0</td>\n",
       "      <td>0.0</td>\n",
       "      <td>350.000</td>\n",
       "      <td>100.000000</td>\n",
       "      <td>1</td>\n",
       "      <td>...</td>\n",
       "      <td>0</td>\n",
       "      <td>0</td>\n",
       "      <td>0</td>\n",
       "      <td>0</td>\n",
       "      <td>0</td>\n",
       "      <td>0</td>\n",
       "      <td>1</td>\n",
       "      <td>1</td>\n",
       "      <td>0</td>\n",
       "      <td>1</td>\n",
       "    </tr>\n",
       "    <tr>\n",
       "      <th>761</th>\n",
       "      <td>4.0</td>\n",
       "      <td>1.0</td>\n",
       "      <td>0.0</td>\n",
       "      <td>0.0</td>\n",
       "      <td>0.0</td>\n",
       "      <td>100.0</td>\n",
       "      <td>0.0</td>\n",
       "      <td>257800.704</td>\n",
       "      <td>100.000000</td>\n",
       "      <td>0</td>\n",
       "      <td>...</td>\n",
       "      <td>0</td>\n",
       "      <td>1</td>\n",
       "      <td>0</td>\n",
       "      <td>0</td>\n",
       "      <td>0</td>\n",
       "      <td>0</td>\n",
       "      <td>1</td>\n",
       "      <td>1</td>\n",
       "      <td>0</td>\n",
       "      <td>1</td>\n",
       "    </tr>\n",
       "    <tr>\n",
       "      <th>145</th>\n",
       "      <td>1.0</td>\n",
       "      <td>2.0</td>\n",
       "      <td>65.0</td>\n",
       "      <td>1.0</td>\n",
       "      <td>0.0</td>\n",
       "      <td>9.0</td>\n",
       "      <td>3.0</td>\n",
       "      <td>9879.945</td>\n",
       "      <td>100.000000</td>\n",
       "      <td>1</td>\n",
       "      <td>...</td>\n",
       "      <td>0</td>\n",
       "      <td>0</td>\n",
       "      <td>0</td>\n",
       "      <td>0</td>\n",
       "      <td>0</td>\n",
       "      <td>0</td>\n",
       "      <td>1</td>\n",
       "      <td>1</td>\n",
       "      <td>0</td>\n",
       "      <td>1</td>\n",
       "    </tr>\n",
       "    <tr>\n",
       "      <th>798</th>\n",
       "      <td>1.0</td>\n",
       "      <td>1.0</td>\n",
       "      <td>0.0</td>\n",
       "      <td>0.0</td>\n",
       "      <td>0.0</td>\n",
       "      <td>0.0</td>\n",
       "      <td>0.0</td>\n",
       "      <td>1000.000</td>\n",
       "      <td>100.000000</td>\n",
       "      <td>0</td>\n",
       "      <td>...</td>\n",
       "      <td>0</td>\n",
       "      <td>0</td>\n",
       "      <td>0</td>\n",
       "      <td>0</td>\n",
       "      <td>0</td>\n",
       "      <td>0</td>\n",
       "      <td>1</td>\n",
       "      <td>1</td>\n",
       "      <td>0</td>\n",
       "      <td>1</td>\n",
       "    </tr>\n",
       "    <tr>\n",
       "      <th>813</th>\n",
       "      <td>1.0</td>\n",
       "      <td>2.0</td>\n",
       "      <td>0.0</td>\n",
       "      <td>0.0</td>\n",
       "      <td>0.0</td>\n",
       "      <td>0.0</td>\n",
       "      <td>0.0</td>\n",
       "      <td>146.100</td>\n",
       "      <td>100.000000</td>\n",
       "      <td>0</td>\n",
       "      <td>...</td>\n",
       "      <td>0</td>\n",
       "      <td>0</td>\n",
       "      <td>0</td>\n",
       "      <td>0</td>\n",
       "      <td>1</td>\n",
       "      <td>0</td>\n",
       "      <td>1</td>\n",
       "      <td>1</td>\n",
       "      <td>0</td>\n",
       "      <td>1</td>\n",
       "    </tr>\n",
       "    <tr>\n",
       "      <th>...</th>\n",
       "      <td>...</td>\n",
       "      <td>...</td>\n",
       "      <td>...</td>\n",
       "      <td>...</td>\n",
       "      <td>...</td>\n",
       "      <td>...</td>\n",
       "      <td>...</td>\n",
       "      <td>...</td>\n",
       "      <td>...</td>\n",
       "      <td>...</td>\n",
       "      <td>...</td>\n",
       "      <td>...</td>\n",
       "      <td>...</td>\n",
       "      <td>...</td>\n",
       "      <td>...</td>\n",
       "      <td>...</td>\n",
       "      <td>...</td>\n",
       "      <td>...</td>\n",
       "      <td>...</td>\n",
       "      <td>...</td>\n",
       "      <td>...</td>\n",
       "    </tr>\n",
       "    <tr>\n",
       "      <th>205</th>\n",
       "      <td>1.0</td>\n",
       "      <td>2.0</td>\n",
       "      <td>99.0</td>\n",
       "      <td>0.0</td>\n",
       "      <td>0.0</td>\n",
       "      <td>0.0</td>\n",
       "      <td>0.0</td>\n",
       "      <td>1658.000</td>\n",
       "      <td>100.000000</td>\n",
       "      <td>1</td>\n",
       "      <td>...</td>\n",
       "      <td>0</td>\n",
       "      <td>0</td>\n",
       "      <td>0</td>\n",
       "      <td>0</td>\n",
       "      <td>0</td>\n",
       "      <td>0</td>\n",
       "      <td>1</td>\n",
       "      <td>1</td>\n",
       "      <td>0</td>\n",
       "      <td>1</td>\n",
       "    </tr>\n",
       "    <tr>\n",
       "      <th>698</th>\n",
       "      <td>1.0</td>\n",
       "      <td>1.0</td>\n",
       "      <td>98.0</td>\n",
       "      <td>0.0</td>\n",
       "      <td>0.0</td>\n",
       "      <td>1.0</td>\n",
       "      <td>0.0</td>\n",
       "      <td>1585.799</td>\n",
       "      <td>100.000000</td>\n",
       "      <td>1</td>\n",
       "      <td>...</td>\n",
       "      <td>0</td>\n",
       "      <td>0</td>\n",
       "      <td>0</td>\n",
       "      <td>0</td>\n",
       "      <td>0</td>\n",
       "      <td>1</td>\n",
       "      <td>0</td>\n",
       "      <td>1</td>\n",
       "      <td>1</td>\n",
       "      <td>0</td>\n",
       "    </tr>\n",
       "    <tr>\n",
       "      <th>606</th>\n",
       "      <td>1.0</td>\n",
       "      <td>1.0</td>\n",
       "      <td>100.0</td>\n",
       "      <td>0.0</td>\n",
       "      <td>0.0</td>\n",
       "      <td>0.0</td>\n",
       "      <td>0.0</td>\n",
       "      <td>71.780</td>\n",
       "      <td>100.000000</td>\n",
       "      <td>1</td>\n",
       "      <td>...</td>\n",
       "      <td>0</td>\n",
       "      <td>0</td>\n",
       "      <td>0</td>\n",
       "      <td>0</td>\n",
       "      <td>0</td>\n",
       "      <td>1</td>\n",
       "      <td>0</td>\n",
       "      <td>1</td>\n",
       "      <td>1</td>\n",
       "      <td>0</td>\n",
       "    </tr>\n",
       "    <tr>\n",
       "      <th>331</th>\n",
       "      <td>1.0</td>\n",
       "      <td>1.0</td>\n",
       "      <td>100.0</td>\n",
       "      <td>0.0</td>\n",
       "      <td>0.0</td>\n",
       "      <td>0.0</td>\n",
       "      <td>0.0</td>\n",
       "      <td>1910.300</td>\n",
       "      <td>100.000000</td>\n",
       "      <td>1</td>\n",
       "      <td>...</td>\n",
       "      <td>0</td>\n",
       "      <td>0</td>\n",
       "      <td>0</td>\n",
       "      <td>0</td>\n",
       "      <td>0</td>\n",
       "      <td>1</td>\n",
       "      <td>0</td>\n",
       "      <td>1</td>\n",
       "      <td>1</td>\n",
       "      <td>0</td>\n",
       "    </tr>\n",
       "    <tr>\n",
       "      <th>474</th>\n",
       "      <td>1.0</td>\n",
       "      <td>2.0</td>\n",
       "      <td>90.5</td>\n",
       "      <td>0.0</td>\n",
       "      <td>0.0</td>\n",
       "      <td>0.0</td>\n",
       "      <td>0.0</td>\n",
       "      <td>1226.000</td>\n",
       "      <td>69.877719</td>\n",
       "      <td>1</td>\n",
       "      <td>...</td>\n",
       "      <td>0</td>\n",
       "      <td>0</td>\n",
       "      <td>0</td>\n",
       "      <td>1</td>\n",
       "      <td>0</td>\n",
       "      <td>0</td>\n",
       "      <td>1</td>\n",
       "      <td>1</td>\n",
       "      <td>0</td>\n",
       "      <td>1</td>\n",
       "    </tr>\n",
       "  </tbody>\n",
       "</table>\n",
       "<p>765 rows × 29 columns</p>\n",
       "</div>"
      ],
      "text/plain": [
       "     select_descr_activity_num  palm_oil_activity_num  estimate_dist_cert_EU  \\\n",
       "536                        1.0                    2.0                  100.0   \n",
       "761                        4.0                    1.0                    0.0   \n",
       "145                        1.0                    2.0                   65.0   \n",
       "798                        1.0                    1.0                    0.0   \n",
       "813                        1.0                    2.0                    0.0   \n",
       "..                         ...                    ...                    ...   \n",
       "205                        1.0                    2.0                   99.0   \n",
       "698                        1.0                    1.0                   98.0   \n",
       "606                        1.0                    1.0                  100.0   \n",
       "331                        1.0                    1.0                  100.0   \n",
       "474                        1.0                    2.0                   90.5   \n",
       "\n",
       "     estimate_dist_cert_INDO  estimate_dist_cert_INDIA  \\\n",
       "536                      0.0                       0.0   \n",
       "761                      0.0                       0.0   \n",
       "145                      1.0                       0.0   \n",
       "798                      0.0                       0.0   \n",
       "813                      0.0                       0.0   \n",
       "..                       ...                       ...   \n",
       "205                      0.0                       0.0   \n",
       "698                      0.0                       0.0   \n",
       "606                      0.0                       0.0   \n",
       "331                      0.0                       0.0   \n",
       "474                      0.0                       0.0   \n",
       "\n",
       "     estimate_dist_cert_LUS  estimate_dist_cert_AFR   vol_total  \\\n",
       "536                     0.0                     0.0     350.000   \n",
       "761                   100.0                     0.0  257800.704   \n",
       "145                     9.0                     3.0    9879.945   \n",
       "798                     0.0                     0.0    1000.000   \n",
       "813                     0.0                     0.0     146.100   \n",
       "..                      ...                     ...         ...   \n",
       "205                     0.0                     0.0    1658.000   \n",
       "698                     1.0                     0.0    1585.799   \n",
       "606                     0.0                     0.0      71.780   \n",
       "331                     0.0                     0.0    1910.300   \n",
       "474                     0.0                     0.0    1226.000   \n",
       "\n",
       "     total_percent  membership_sector_Consumer Goods Manufacturers  ...  \\\n",
       "536     100.000000                                               1  ...   \n",
       "761     100.000000                                               0  ...   \n",
       "145     100.000000                                               1  ...   \n",
       "798     100.000000                                               0  ...   \n",
       "813     100.000000                                               0  ...   \n",
       "..             ...                                             ...  ...   \n",
       "205     100.000000                                               1  ...   \n",
       "698     100.000000                                               1  ...   \n",
       "606     100.000000                                               1  ...   \n",
       "331     100.000000                                               1  ...   \n",
       "474      69.877719                                               1  ...   \n",
       "\n",
       "     country_sub_Indonesia  country_sub_Latin America  country_sub_Malaysia  \\\n",
       "536                      0                          0                     0   \n",
       "761                      0                          1                     0   \n",
       "145                      0                          0                     0   \n",
       "798                      0                          0                     0   \n",
       "813                      0                          0                     0   \n",
       "..                     ...                        ...                   ...   \n",
       "205                      0                          0                     0   \n",
       "698                      0                          0                     0   \n",
       "606                      0                          0                     0   \n",
       "331                      0                          0                     0   \n",
       "474                      0                          0                     0   \n",
       "\n",
       "     country_sub_North America  country_sub_Rest of the World  \\\n",
       "536                          0                              0   \n",
       "761                          0                              0   \n",
       "145                          0                              0   \n",
       "798                          0                              0   \n",
       "813                          0                              1   \n",
       "..                         ...                            ...   \n",
       "205                          0                              0   \n",
       "698                          0                              0   \n",
       "606                          0                              0   \n",
       "331                          0                              0   \n",
       "474                          1                              0   \n",
       "\n",
       "     year_use_cert_oil_yes_no  year_use_cert_oil_yes_yes  \\\n",
       "536                         0                          1   \n",
       "761                         0                          1   \n",
       "145                         0                          1   \n",
       "798                         0                          1   \n",
       "813                         0                          1   \n",
       "..                        ...                        ...   \n",
       "205                         0                          1   \n",
       "698                         1                          0   \n",
       "606                         1                          0   \n",
       "331                         1                          0   \n",
       "474                         0                          1   \n",
       "\n",
       "     year_achieve_supplycert_yes_yes  year_use_cert_ismb_yes_no  \\\n",
       "536                                1                          0   \n",
       "761                                1                          0   \n",
       "145                                1                          0   \n",
       "798                                1                          0   \n",
       "813                                1                          0   \n",
       "..                               ...                        ...   \n",
       "205                                1                          0   \n",
       "698                                1                          1   \n",
       "606                                1                          1   \n",
       "331                                1                          1   \n",
       "474                                1                          0   \n",
       "\n",
       "     year_use_cert_ismb_yes_yes  \n",
       "536                           1  \n",
       "761                           1  \n",
       "145                           1  \n",
       "798                           1  \n",
       "813                           1  \n",
       "..                          ...  \n",
       "205                           1  \n",
       "698                           0  \n",
       "606                           0  \n",
       "331                           0  \n",
       "474                           1  \n",
       "\n",
       "[765 rows x 29 columns]"
      ]
     },
     "execution_count": 38,
     "metadata": {},
     "output_type": "execute_result"
    }
   ],
   "source": [
    "X_dummy"
   ]
  },
  {
   "cell_type": "code",
   "execution_count": 43,
   "id": "41104260",
   "metadata": {},
   "outputs": [],
   "source": [
    "df_all['total_percent'] = df_all['percent_mb']+df_all['percent_sg']+df_all['percent_ip']+df_all['percent_ind']+df_all['percent_mill']"
   ]
  },
  {
   "cell_type": "code",
   "execution_count": 46,
   "id": "3b50f9c4",
   "metadata": {},
   "outputs": [
    {
     "name": "stdout",
     "output_type": "stream",
     "text": [
      "<class 'pandas.core.frame.DataFrame'>\n",
      "Int64Index: 556 entries, 739 to 528\n",
      "Data columns (total 34 columns):\n",
      " #   Column                             Non-Null Count  Dtype   \n",
      "---  ------                             --------------  -----   \n",
      " 0   palm_oil_activity_num              556 non-null    float64 \n",
      " 1   num_market                         556 non-null    float64 \n",
      " 2   percent_mill                       556 non-null    float64 \n",
      " 3   percent_ind                        556 non-null    float64 \n",
      " 4   percent_mb                         556 non-null    float64 \n",
      " 5   percent_sg                         556 non-null    float64 \n",
      " 6   percent_ip                         556 non-null    float64 \n",
      " 7   estimate_dist_total_EU             556 non-null    float64 \n",
      " 8   estimate_dist_total_NUS            556 non-null    float64 \n",
      " 9   estimate_dist_total_MY             556 non-null    float64 \n",
      " 10  estimate_dist_total_INDO           556 non-null    float64 \n",
      " 11  estimate_dist_total_CH             556 non-null    float64 \n",
      " 12  estimate_dist_total_INDIA          556 non-null    float64 \n",
      " 13  estimate_dist_total_LUS            556 non-null    float64 \n",
      " 14  estimate_dist_total_AFR            556 non-null    float64 \n",
      " 15  estimate_dist_total_ROW            556 non-null    float64 \n",
      " 16  estimate_dist_cert_EU              556 non-null    float64 \n",
      " 17  estimate_dist_cert_NUS             556 non-null    float64 \n",
      " 18  estimate_dist_cert_MY              556 non-null    float64 \n",
      " 19  estimate_dist_cert_INDO            556 non-null    float64 \n",
      " 20  estimate_dist_cert_CH              556 non-null    float64 \n",
      " 21  estimate_dist_cert_INDIA           556 non-null    float64 \n",
      " 22  estimate_dist_cert_LUS             556 non-null    float64 \n",
      " 23  estimate_dist_cert_AFR             556 non-null    float64 \n",
      " 24  estimate_dist_cert_ROW             556 non-null    float64 \n",
      " 25  vol_total                          556 non-null    float64 \n",
      " 26  membership_category                556 non-null    category\n",
      " 27  country_sub                        556 non-null    category\n",
      " 28  year_use_cert_oil_yes              556 non-null    category\n",
      " 29  year_achieve_supplycert_yes        556 non-null    category\n",
      " 30  year_use_cert_ismb_yes             556 non-null    category\n",
      " 31  year_use_100%cert_supplychain_yes  556 non-null    category\n",
      " 32  use_rspo_trademark                 556 non-null    category\n",
      " 33  total_percent                      556 non-null    float64 \n",
      "dtypes: category(7), float64(27)\n",
      "memory usage: 126.5 KB\n"
     ]
    }
   ],
   "source": [
    "X_train.info()"
   ]
  },
  {
   "cell_type": "code",
   "execution_count": 33,
   "id": "a9caa63d",
   "metadata": {},
   "outputs": [
    {
     "name": "stderr",
     "output_type": "stream",
     "text": [
      "[Parallel(n_jobs=1)]: Using backend SequentialBackend with 1 concurrent workers.\n",
      "[Parallel(n_jobs=1)]: Done   1 out of   1 | elapsed:    1.4s remaining:    0.0s\n",
      "[Parallel(n_jobs=1)]: Done  46 out of  46 | elapsed:  1.3min finished\n",
      "\n",
      "[2022-10-26 09:49:18] Features: 45/20 -- score: 0.6797830088152669[Parallel(n_jobs=1)]: Using backend SequentialBackend with 1 concurrent workers.\n",
      "[Parallel(n_jobs=1)]: Done   1 out of   1 | elapsed:    1.7s remaining:    0.0s\n",
      "[Parallel(n_jobs=1)]: Done  45 out of  45 | elapsed:  1.3min finished\n",
      "\n",
      "[2022-10-26 09:50:36] Features: 44/20 -- score: 0.6816138719364527[Parallel(n_jobs=1)]: Using backend SequentialBackend with 1 concurrent workers.\n",
      "[Parallel(n_jobs=1)]: Done   1 out of   1 | elapsed:    1.5s remaining:    0.0s\n",
      "[Parallel(n_jobs=1)]: Done  44 out of  44 | elapsed:  1.3min finished\n",
      "\n",
      "[2022-10-26 09:51:54] Features: 43/20 -- score: 0.6816235590429139[Parallel(n_jobs=1)]: Using backend SequentialBackend with 1 concurrent workers.\n",
      "[Parallel(n_jobs=1)]: Done   1 out of   1 | elapsed:    2.2s remaining:    0.0s\n",
      "[Parallel(n_jobs=1)]: Done  43 out of  43 | elapsed:  1.2min finished\n",
      "\n",
      "[2022-10-26 09:53:07] Features: 42/20 -- score: 0.6852271626465175[Parallel(n_jobs=1)]: Using backend SequentialBackend with 1 concurrent workers.\n",
      "[Parallel(n_jobs=1)]: Done   1 out of   1 | elapsed:    1.5s remaining:    0.0s\n",
      "[Parallel(n_jobs=1)]: Done  42 out of  42 | elapsed:  1.1min finished\n",
      "\n",
      "[2022-10-26 09:54:15] Features: 41/20 -- score: 0.6852174755400563[Parallel(n_jobs=1)]: Using backend SequentialBackend with 1 concurrent workers.\n",
      "[Parallel(n_jobs=1)]: Done   1 out of   1 | elapsed:    1.5s remaining:    0.0s\n",
      "[Parallel(n_jobs=1)]: Done  41 out of  41 | elapsed:  1.1min finished\n",
      "\n",
      "[2022-10-26 09:55:20] Features: 40/20 -- score: 0.6924053085343408[Parallel(n_jobs=1)]: Using backend SequentialBackend with 1 concurrent workers.\n",
      "[Parallel(n_jobs=1)]: Done   1 out of   1 | elapsed:    1.4s remaining:    0.0s\n",
      "[Parallel(n_jobs=1)]: Done  40 out of  40 | elapsed:  1.0min finished\n",
      "\n",
      "[2022-10-26 09:56:22] Features: 39/20 -- score: 0.6888017049307372[Parallel(n_jobs=1)]: Using backend SequentialBackend with 1 concurrent workers.\n",
      "[Parallel(n_jobs=1)]: Done   1 out of   1 | elapsed:    1.4s remaining:    0.0s\n",
      "[Parallel(n_jobs=1)]: Done  39 out of  39 | elapsed:  1.0min finished\n",
      "\n",
      "[2022-10-26 09:57:24] Features: 38/20 -- score: 0.6834156737382545[Parallel(n_jobs=1)]: Using backend SequentialBackend with 1 concurrent workers.\n",
      "[Parallel(n_jobs=1)]: Done   1 out of   1 | elapsed:    1.6s remaining:    0.0s\n",
      "[Parallel(n_jobs=1)]: Done  38 out of  38 | elapsed:  1.1min finished\n",
      "\n",
      "[2022-10-26 09:58:28] Features: 37/20 -- score: 0.6852271626465175[Parallel(n_jobs=1)]: Using backend SequentialBackend with 1 concurrent workers.\n",
      "[Parallel(n_jobs=1)]: Done   1 out of   1 | elapsed:    1.5s remaining:    0.0s\n",
      "[Parallel(n_jobs=1)]: Done  37 out of  37 | elapsed:  1.1min finished\n",
      "\n",
      "[2022-10-26 09:59:35] Features: 36/20 -- score: 0.6906131938390003[Parallel(n_jobs=1)]: Using backend SequentialBackend with 1 concurrent workers.\n",
      "[Parallel(n_jobs=1)]: Done   1 out of   1 | elapsed:    1.6s remaining:    0.0s\n",
      "[Parallel(n_jobs=1)]: Done  36 out of  36 | elapsed:  1.0min finished\n",
      "\n",
      "[2022-10-26 10:00:36] Features: 35/20 -- score: 0.6888307662501211[Parallel(n_jobs=1)]: Using backend SequentialBackend with 1 concurrent workers.\n",
      "[Parallel(n_jobs=1)]: Done   1 out of   1 | elapsed:    1.7s remaining:    0.0s\n",
      "[Parallel(n_jobs=1)]: Done  35 out of  35 | elapsed:   60.0s finished\n",
      "\n",
      "[2022-10-26 10:01:36] Features: 34/20 -- score: 0.6852174755400563[Parallel(n_jobs=1)]: Using backend SequentialBackend with 1 concurrent workers.\n",
      "[Parallel(n_jobs=1)]: Done   1 out of   1 | elapsed:    1.6s remaining:    0.0s\n",
      "[Parallel(n_jobs=1)]: Done  34 out of  34 | elapsed:   52.4s finished\n",
      "\n",
      "[2022-10-26 10:02:29] Features: 33/20 -- score: 0.6905938196260776[Parallel(n_jobs=1)]: Using backend SequentialBackend with 1 concurrent workers.\n",
      "[Parallel(n_jobs=1)]: Done   1 out of   1 | elapsed:    1.4s remaining:    0.0s\n",
      "[Parallel(n_jobs=1)]: Done  33 out of  33 | elapsed:   50.1s finished\n",
      "\n",
      "[2022-10-26 10:03:19] Features: 32/20 -- score: 0.6923859343214183[Parallel(n_jobs=1)]: Using backend SequentialBackend with 1 concurrent workers.\n",
      "[Parallel(n_jobs=1)]: Done   1 out of   1 | elapsed:    1.5s remaining:    0.0s\n",
      "[Parallel(n_jobs=1)]: Done  32 out of  32 | elapsed:   48.8s finished\n",
      "\n",
      "[2022-10-26 10:04:08] Features: 31/20 -- score: 0.6996028286350867[Parallel(n_jobs=1)]: Using backend SequentialBackend with 1 concurrent workers.\n",
      "[Parallel(n_jobs=1)]: Done   1 out of   1 | elapsed:    1.4s remaining:    0.0s\n",
      "[Parallel(n_jobs=1)]: Done  31 out of  31 | elapsed:   51.5s finished\n",
      "\n",
      "[2022-10-26 10:05:00] Features: 30/20 -- score: 0.7031483095999226[Parallel(n_jobs=1)]: Using backend SequentialBackend with 1 concurrent workers.\n",
      "[Parallel(n_jobs=1)]: Done   1 out of   1 | elapsed:    1.6s remaining:    0.0s\n",
      "[Parallel(n_jobs=1)]: Done  30 out of  30 | elapsed:   48.2s finished\n",
      "\n",
      "[2022-10-26 10:05:48] Features: 29/20 -- score: 0.703196745132229[Parallel(n_jobs=1)]: Using backend SequentialBackend with 1 concurrent workers.\n",
      "[Parallel(n_jobs=1)]: Done   1 out of   1 | elapsed:    1.4s remaining:    0.0s\n",
      "[Parallel(n_jobs=1)]: Done  29 out of  29 | elapsed:   55.5s finished\n",
      "\n",
      "[2022-10-26 10:06:43] Features: 28/20 -- score: 0.6942167974426039[Parallel(n_jobs=1)]: Using backend SequentialBackend with 1 concurrent workers.\n",
      "[Parallel(n_jobs=1)]: Done   1 out of   1 | elapsed:    2.1s remaining:    0.0s\n",
      "[Parallel(n_jobs=1)]: Done  28 out of  28 | elapsed:   50.6s finished\n",
      "\n",
      "[2022-10-26 10:07:34] Features: 27/20 -- score: 0.6959798508185605[Parallel(n_jobs=1)]: Using backend SequentialBackend with 1 concurrent workers.\n",
      "[Parallel(n_jobs=1)]: Done   1 out of   1 | elapsed:    1.5s remaining:    0.0s\n",
      "[Parallel(n_jobs=1)]: Done  27 out of  27 | elapsed:   52.1s finished\n",
      "\n",
      "[2022-10-26 10:08:26] Features: 26/20 -- score: 0.6959701637120993[Parallel(n_jobs=1)]: Using backend SequentialBackend with 1 concurrent workers.\n",
      "[Parallel(n_jobs=1)]: Done   1 out of   1 | elapsed:    1.5s remaining:    0.0s\n",
      "[Parallel(n_jobs=1)]: Done  26 out of  26 | elapsed:   47.9s finished\n",
      "\n",
      "[2022-10-26 10:09:14] Features: 25/20 -- score: 0.6978010268332849[Parallel(n_jobs=1)]: Using backend SequentialBackend with 1 concurrent workers.\n",
      "[Parallel(n_jobs=1)]: Done   1 out of   1 | elapsed:    1.6s remaining:    0.0s\n",
      "[Parallel(n_jobs=1)]: Done  25 out of  25 | elapsed:   43.4s finished\n",
      "\n",
      "[2022-10-26 10:09:58] Features: 24/20 -- score: 0.7049597985081856[Parallel(n_jobs=1)]: Using backend SequentialBackend with 1 concurrent workers.\n",
      "[Parallel(n_jobs=1)]: Done   1 out of   1 | elapsed:    1.5s remaining:    0.0s\n",
      "[Parallel(n_jobs=1)]: Done  24 out of  24 | elapsed:   42.8s finished\n",
      "\n",
      "[2022-10-26 10:10:41] Features: 23/20 -- score: 0.6977719655139011[Parallel(n_jobs=1)]: Using backend SequentialBackend with 1 concurrent workers.\n",
      "[Parallel(n_jobs=1)]: Done   1 out of   1 | elapsed:    1.6s remaining:    0.0s\n",
      "[Parallel(n_jobs=1)]: Done  23 out of  23 | elapsed:   35.5s finished\n",
      "\n",
      "[2022-10-26 10:11:16] Features: 22/20 -- score: 0.6995737673157029[Parallel(n_jobs=1)]: Using backend SequentialBackend with 1 concurrent workers.\n",
      "[Parallel(n_jobs=1)]: Done   1 out of   1 | elapsed:    1.4s remaining:    0.0s\n",
      "[Parallel(n_jobs=1)]: Done  22 out of  22 | elapsed:   33.2s finished\n",
      "\n",
      "[2022-10-26 10:11:50] Features: 21/20 -- score: 0.7013755691175046[Parallel(n_jobs=1)]: Using backend SequentialBackend with 1 concurrent workers.\n",
      "[Parallel(n_jobs=1)]: Done   1 out of   1 | elapsed:    1.4s remaining:    0.0s\n",
      "[Parallel(n_jobs=1)]: Done  21 out of  21 | elapsed:   31.6s finished\n",
      "\n",
      "[2022-10-26 10:12:21] Features: 20/20 -- score: 0.7013658820110433"
     ]
    }
   ],
   "source": [
    "from mlxtend.feature_selection import SequentialFeatureSelector\n",
    "from sklearn.metrics import r2_score\n",
    "\n",
    "clf = RandomForestClassifier()\n",
    "\n",
    "feature_selector = SequentialFeatureSelector(clf,\n",
    "           k_features=20,\n",
    "           forward=False,\n",
    "           floating=False,\n",
    "           verbose=2,\n",
    "           scoring='accuracy',\n",
    "           cv=3)\n",
    "\n",
    "features = feature_selector.fit(X_dummy, y_train)"
   ]
  },
  {
   "cell_type": "code",
   "execution_count": 34,
   "id": "178dfd42",
   "metadata": {},
   "outputs": [
    {
     "data": {
      "text/plain": [
       "Index(['palm_oil_activity_num', 'percent_ind', 'percent_mb', 'percent_sg',\n",
       "       'estimate_dist_total_MY', 'estimate_dist_total_INDIA',\n",
       "       'estimate_dist_total_ROW', 'estimate_dist_cert_EU',\n",
       "       'estimate_dist_cert_NUS', 'estimate_dist_cert_INDO',\n",
       "       'estimate_dist_cert_INDIA', 'estimate_dist_cert_LUS', 'vol_total',\n",
       "       'country_sub_China', 'country_sub_India', 'country_sub_Indonesia',\n",
       "       'year_use_cert_oil_yes_no', 'year_use_100%cert_supplychain_yes_no',\n",
       "       'use_rspo_trademark_No', 'use_rspo_trademark_Yes'],\n",
       "      dtype='object')"
      ]
     },
     "execution_count": 34,
     "metadata": {},
     "output_type": "execute_result"
    }
   ],
   "source": [
    "filtered_features= X_dummy.columns[list(features.k_feature_idx_)]\n",
    "filtered_features\n"
   ]
  },
  {
   "cell_type": "code",
   "execution_count": 49,
   "id": "b8a0187d",
   "metadata": {},
   "outputs": [],
   "source": [
    "X_dummy1 = X_dummy[['palm_oil_activity_num', 'num_market', 'percent_mill', 'percent_ind',\n",
    "       'percent_mb', 'estimate_dist_cert_EU', 'estimate_dist_cert_INDIA',\n",
    "       'estimate_dist_cert_LUS', 'estimate_dist_cert_AFR', 'vol_total',\n",
    "       'total_percent',\n",
    "       'estimate_dist_cert_NUS', 'estimate_dist_cert_INDO',\n",
    "       'membership_category_Ordinary', 'country_sub_North America',\n",
    "       'year_use_cert_oil_yes_yes', 'year_use_cert_ismb_yes_no',\n",
    "       'year_use_100%cert_supplychain_yes_no']]\n",
    "\n",
    "X_testdummy1 =X_testdummy[['palm_oil_activity_num', 'num_market', 'percent_mill', 'percent_ind',\n",
    "       'percent_mb', 'estimate_dist_cert_EU', 'estimate_dist_cert_INDIA',\n",
    "       'estimate_dist_cert_LUS', 'estimate_dist_cert_AFR', 'vol_total',\n",
    "       'total_percent',\n",
    "       'estimate_dist_cert_NUS', 'estimate_dist_cert_INDO',\n",
    "       'membership_category_Ordinary', 'country_sub_North America',\n",
    "       'year_use_cert_oil_yes_yes', 'year_use_cert_ismb_yes_no',\n",
    "       'year_use_100%cert_supplychain_yes_no']]"
   ]
  },
  {
   "cell_type": "code",
   "execution_count": 50,
   "id": "4c919946",
   "metadata": {},
   "outputs": [],
   "source": [
    "\n",
    "# Scale data\n",
    "from sklearn.preprocessing import MinMaxScaler\n",
    "scaler = MinMaxScaler().fit(X_dummy1)\n",
    "X_scaled = scaler.transform(X_dummy1)\n",
    "\n",
    "\n",
    "# scale test data\n",
    "X_testscaled = scaler.transform(X_testdummy1)"
   ]
  },
  {
   "cell_type": "code",
   "execution_count": 32,
   "id": "c6b6f57d",
   "metadata": {},
   "outputs": [],
   "source": [
    "def score_dataset(X, y, model=RandomForestClassifier()):\n",
    "\n",
    "    for colname in X.select_dtypes([\"category\"]):\n",
    "        X[colname] = X[colname].cat.codes\n",
    "    # Metric is MAE\n",
    "    score = cross_val_score(\n",
    "    model, X, y, cv=3, scoring=\"accuracy\"\n",
    "    )\n",
    "    score = 1 * score.mean()\n",
    "\n",
    "    return score"
   ]
  },
  {
   "cell_type": "code",
   "execution_count": 33,
   "id": "0a438205",
   "metadata": {},
   "outputs": [
    {
     "name": "stdout",
     "output_type": "stream",
     "text": [
      "Baseline score: 0.71126 accuracy\n"
     ]
    }
   ],
   "source": [
    "baseline_score = score_dataset(X_dummy1, y_train)\n",
    "print(f\"Baseline score: {baseline_score:.5f} accuracy\")"
   ]
  },
  {
   "cell_type": "code",
   "execution_count": 51,
   "id": "e4384ec8",
   "metadata": {},
   "outputs": [],
   "source": [
    "# Model Building\n",
    "param_range = [1, 2, 3, 4, 5, 6]\n",
    "param_range_fl = [1.0, 0.5, 0.1]\n",
    "n_estimators = [50,100,150]\n",
    "learning_rates = [.1,.2,.3]"
   ]
  },
  {
   "cell_type": "code",
   "execution_count": 53,
   "id": "153c92df",
   "metadata": {},
   "outputs": [
    {
     "name": "stdout",
     "output_type": "stream",
     "text": [
      "KNN Best Parameter {'metric': 'euclidean', 'n_neighbors': 6, 'weights': 'uniform'}\n",
      "KNN Best Score 0.6654601029601028\n",
      "KNN Best model accuracy score on train data = 0.71\n",
      "KNN Best model accuracy score on test data = 0.72\n",
      "KNN Classification Report on test data               precision    recall  f1-score   support\n",
      "\n",
      "           0       0.71      0.99      0.83       121\n",
      "           1       0.00      0.00      0.00        13\n",
      "           2       0.00      0.00      0.00        14\n",
      "           3       0.88      0.37      0.52        38\n",
      "\n",
      "    accuracy                           0.72       186\n",
      "   macro avg       0.40      0.34      0.34       186\n",
      "weighted avg       0.64      0.72      0.65       186\n",
      "\n"
     ]
    }
   ],
   "source": [
    "#KNN\n",
    "knn_param_grid = [{'n_neighbors': param_range,\n",
    "                   'weights': ['uniform', 'distance'],\n",
    "                   'metric': ['euclidean', 'manhattan']}]\n",
    "\n",
    "\n",
    "knn_grid = GridSearchCV(KNeighborsClassifier(), \n",
    "                    knn_param_grid, scoring='accuracy',\n",
    "                    cv=5, return_train_score=True)\n",
    "\n",
    "knn_grid.fit(X_scaled, y_train)\n",
    "print(\"KNN Best Parameter\", knn_grid.best_params_)\n",
    "\n",
    "knn_model = knn_grid.best_estimator_\n",
    "knn_model.fit(X_scaled,y_train)\n",
    "print(\"KNN Best Score\", knn_grid.best_score_)\n",
    "knn_pred=knn_model.predict(X_testscaled)\n",
    "knn_pred1=knn_model.predict(X_scaled)\n",
    "\n",
    "print(\"KNN Best model accuracy score on train data = {:.2f}\".format(accuracy_score(y_train,knn_pred1)))\n",
    "\n",
    "print(\"KNN Best model accuracy score on test data = {:.2f}\".format(accuracy_score(y_test,knn_pred)))\n",
    "\n",
    "cr = classification_report(y_test, knn_pred)\n",
    "print(\"KNN Classification Report on test data\",cr)"
   ]
  },
  {
   "cell_type": "code",
   "execution_count": 54,
   "id": "2dc8fd36",
   "metadata": {},
   "outputs": [
    {
     "name": "stdout",
     "output_type": "stream",
     "text": [
      "DT Best Parameter {'criterion': 'entropy', 'max_depth': 4, 'min_samples_leaf': 5, 'min_samples_split': 2}\n",
      "DT Best Score 0.710440797940798\n",
      "DT Best model accuracy score on train data = 0.72\n",
      "DT Best model accuracy score on test data = 0.68\n",
      "DT Classification Report on test data               precision    recall  f1-score   support\n",
      "\n",
      "           0       0.70      0.94      0.81       121\n",
      "           1       0.00      0.00      0.00        13\n",
      "           2       0.00      0.00      0.00        14\n",
      "           3       0.54      0.34      0.42        38\n",
      "\n",
      "    accuracy                           0.68       186\n",
      "   macro avg       0.31      0.32      0.31       186\n",
      "weighted avg       0.57      0.68      0.61       186\n",
      "\n"
     ]
    }
   ],
   "source": [
    "#Decision Tree\n",
    "dt_param_grid = [{'criterion': ['gini', 'entropy'],\n",
    "                   'min_samples_leaf': param_range,\n",
    "                   'max_depth': param_range,\n",
    "                   'min_samples_split': param_range[1:]}]\n",
    "\n",
    "dt_grid = GridSearchCV(DecisionTreeClassifier(random_state=1), \n",
    "                    dt_param_grid,scoring='accuracy',\n",
    "                    cv=5, return_train_score=True)\n",
    "\n",
    "dt_grid.fit(X_scaled, y_train)\n",
    "print(\"DT Best Parameter\", dt_grid.best_params_)\n",
    "\n",
    "dt_model = dt_grid.best_estimator_\n",
    "dt_model.fit(X_scaled,y_train)\n",
    "print(\"DT Best Score\", dt_grid.best_score_)\n",
    "dt1_pred=dt_model.predict(X_scaled)\n",
    "dt_pred=dt_model.predict(X_testscaled)\n",
    "print(\"DT Best model accuracy score on train data = {:.2f}\".format(accuracy_score(y_train,dt1_pred)))\n",
    "print(\"DT Best model accuracy score on test data = {:.2f}\".format(accuracy_score(y_test,dt_pred)))\n",
    "cr = classification_report(y_test, dt_pred)\n",
    "print(\"DT Classification Report on test data\",cr)"
   ]
  },
  {
   "cell_type": "code",
   "execution_count": 57,
   "id": "c996aaf8",
   "metadata": {},
   "outputs": [
    {
     "name": "stdout",
     "output_type": "stream",
     "text": [
      "RF Best Parameter {'criterion': 'entropy', 'max_depth': 3, 'min_samples_leaf': 6, 'min_samples_split': 2, 'n_estimators': 30}\n",
      "RF Best Score 0.6870483386612419\n",
      "RF Best model accuracy score on train data = 0.69\n",
      "RF Best model accuracy score on test data = 0.66\n",
      "RF Classification Report on test data               precision    recall  f1-score   support\n",
      "\n",
      "           0       0.66      0.98      0.79       121\n",
      "           1       0.00      0.00      0.00        13\n",
      "           2       0.00      0.00      0.00        14\n",
      "           3       0.67      0.11      0.18        38\n",
      "\n",
      "    accuracy                           0.66       186\n",
      "   macro avg       0.33      0.27      0.24       186\n",
      "weighted avg       0.57      0.66      0.55       186\n",
      "\n"
     ]
    }
   ],
   "source": [
    "#Random Forest\n",
    "rf_param_grid = [{'criterion': ['gini', 'entropy'],'min_samples_leaf': param_range,\n",
    "                   'max_depth': [2,3],'n_estimators':[25,30],\n",
    "                   'min_samples_split': param_range[1:]}]\n",
    "\n",
    "rf_grid = GridSearchCV(RandomForestClassifier(random_state=42),param_grid=rf_param_grid,\n",
    "        scoring='accuracy',\n",
    "        cv=3, return_train_score=True)\n",
    "\n",
    "rf_grid.fit(X_scaled, y_train)\n",
    "print(\"RF Best Parameter\", rf_grid.best_params_)\n",
    "\n",
    "rf_model = rf_grid.best_estimator_\n",
    "rf_model.fit(X_scaled,y_train)\n",
    "print(\"RF Best Score\", rf_grid.best_score_)\n",
    "rf1_pred=rf_model.predict(X_scaled)\n",
    "rf_pred=rf_model.predict(X_testscaled)\n",
    "print(\"RF Best model accuracy score on train data = {:.2f}\".format(accuracy_score(y_train,rf1_pred)))\n",
    "print(\"RF Best model accuracy score on test data = {:.2f}\".format(accuracy_score(y_test,rf_pred)))\n",
    "cr = classification_report(y_test, rf_pred)\n",
    "print(\"RF Classification Report on test data\",cr)"
   ]
  },
  {
   "cell_type": "code",
   "execution_count": 65,
   "id": "6dcc8b70",
   "metadata": {},
   "outputs": [
    {
     "name": "stdout",
     "output_type": "stream",
     "text": [
      "Training Accuracy :  100.0\n",
      "RF Best model accuracy score on train data = 1.00\n",
      "RF Best model accuracy score on test data = 0.69\n",
      "RF Classification Report on test data               precision    recall  f1-score   support\n",
      "\n",
      "           0       0.74      0.90      0.81       121\n",
      "           1       0.33      0.08      0.12        13\n",
      "           2       0.00      0.00      0.00        14\n",
      "           3       0.59      0.50      0.54        38\n",
      "\n",
      "    accuracy                           0.69       186\n",
      "   macro avg       0.42      0.37      0.37       186\n",
      "weighted avg       0.63      0.69      0.65       186\n",
      "\n"
     ]
    }
   ],
   "source": [
    "# to reduce overfitting\n",
    "model = RandomForestClassifier(\n",
    "    max_depth=3, n_estimators=30,\n",
    "    min_samples_split=3, max_leaf_nodes=5,\n",
    "    random_state=22)\n",
    " \n",
    "model.fit(X_scaled, y_train)\n",
    "print('Training Accuracy : ',\n",
    "      metrics.accuracy_score(\n",
    "          y_train, model.predict(X_scaled))*100)\n",
    "\n",
    "\n",
    "rf1_pred=model.predict(X_scaled)\n",
    "rf_pred=model.predict(X_testscaled)\n",
    "print(\"RF Best model accuracy score on train data = {:.2f}\".format(accuracy_score(y_train,rf1_pred)))\n",
    "print(\"RF Best model accuracy score on test data = {:.2f}\".format(accuracy_score(y_test,rf_pred)))\n",
    "cr = classification_report(y_test, rf_pred)\n",
    "print(\"RF Classification Report on test data\",cr)"
   ]
  },
  {
   "cell_type": "code",
   "execution_count": 60,
   "id": "1e53bc8c",
   "metadata": {},
   "outputs": [
    {
     "data": {
      "image/png": "[encoded data removed]",
      "text/plain": [
       "<Figure size 1296x576 with 2 Axes>"
      ]
     },
     "metadata": {
      "needs_background": "light"
     },
     "output_type": "display_data"
    }
   ],
   "source": [
    "plt.figure(figsize = (18,8))\n",
    "sns.heatmap(metrics.confusion_matrix(y_test, knn_pred), annot = True, xticklabels = y_test.unique(), yticklabels = y_test.unique(), cmap = 'summer')\n",
    "plt.xlabel('Predicted Labels')\n",
    "plt.ylabel('True Labels')\n",
    "plt.show()"
   ]
  },
  {
   "cell_type": "code",
   "execution_count": 61,
   "id": "cdcabf54",
   "metadata": {},
   "outputs": [
    {
     "name": "stdout",
     "output_type": "stream",
     "text": [
      "NB Best model accuracy score on test data = 0.15\n"
     ]
    }
   ],
   "source": [
    "from sklearn.naive_bayes import GaussianNB\n",
    "\n",
    "gnb = GaussianNB()\n",
    "y_pred = gnb.fit(X_scaled, y_train).predict(X_testscaled)\n",
    "print(\"NB Best model accuracy score on test data = {:.2f}\".format(accuracy_score(y_test,y_pred)))"
   ]
  },
  {
   "cell_type": "code",
   "execution_count": 62,
   "id": "9858e5f4",
   "metadata": {},
   "outputs": [
    {
     "name": "stdout",
     "output_type": "stream",
     "text": [
      "SGDC Best Parameter {'loss': 'huber', 'penalty': 'l1'}\n",
      "SGDC Best model accuracy score on train data = 0.68\n",
      "SGDC Best model accuracy score on test data = 0.68\n"
     ]
    }
   ],
   "source": [
    "from sklearn.linear_model import SGDClassifier\n",
    "sgdc_param_grid = [{'penalty': ['l2', 'l1',],\n",
    "                   'loss':['log_loss', 'log','modified_huber', 'squared_hinge', 'perceptron','huber']}]\n",
    "\n",
    "sgdc_grid = GridSearchCV(SGDClassifier(max_iter=1000, tol=0.01), \n",
    "                    sgdc_param_grid, scoring='accuracy',\n",
    "                    cv=5, return_train_score=True)\n",
    "\n",
    "sgdc_grid.fit(X_scaled, y_train)\n",
    "print(\"SGDC Best Parameter\", sgdc_grid.best_params_)\n",
    "sgdc_model = sgdc_grid.best_estimator_\n",
    "sgdc1_pred=sgdc_model.predict(X_scaled)\n",
    "sgdc_pred=sgdc_model.predict(X_testscaled)\n",
    "\n",
    "print(\"SGDC Best model accuracy score on train data = {:.2f}\".format(accuracy_score(y_train,sgdc1_pred)))\n",
    "print(\"SGDC Best model accuracy score on test data = {:.2f}\".format(accuracy_score(y_test,sgdc_pred)))"
   ]
  },
  {
   "cell_type": "code",
   "execution_count": 63,
   "id": "bd9621cd",
   "metadata": {},
   "outputs": [
    {
     "name": "stdout",
     "output_type": "stream",
     "text": [
      "[[118   0   0   3]\n",
      " [ 13   0   0   0]\n",
      " [ 14   0   0   0]\n",
      " [ 30   0   0   8]]\n"
     ]
    }
   ],
   "source": [
    "cm = confusion_matrix(y_test, sgdc_pred)\n",
    "print(cm) \n",
    "\n",
    " "
   ]
  },
  {
   "cell_type": "code",
   "execution_count": 64,
   "id": "25bd2ea8",
   "metadata": {},
   "outputs": [
    {
     "name": "stdout",
     "output_type": "stream",
     "text": [
      "              precision    recall  f1-score   support\n",
      "\n",
      "           0       0.67      0.98      0.80       121\n",
      "           1       0.00      0.00      0.00        13\n",
      "           2       0.00      0.00      0.00        14\n",
      "           3       0.73      0.21      0.33        38\n",
      "\n",
      "    accuracy                           0.68       186\n",
      "   macro avg       0.35      0.30      0.28       186\n",
      "weighted avg       0.59      0.68      0.59       186\n",
      "\n"
     ]
    }
   ],
   "source": [
    "cr = classification_report(y_test, sgdc_pred)\n",
    "print(cr)"
   ]
  },
  {
   "cell_type": "code",
   "execution_count": 70,
   "id": "0551050e",
   "metadata": {},
   "outputs": [
    {
     "data": {
      "image/png": "[encoded data removed]",
      "text/plain": [
       "<Figure size 432x288 with 1 Axes>"
      ]
     },
     "metadata": {
      "needs_background": "light"
     },
     "output_type": "display_data"
    }
   ],
   "source": [
    "from sklearn.inspection import permutation_importance\n",
    "result = permutation_importance(knn_model, X_dummy1, y_train, n_repeats=10, random_state=42)\n",
    "perm_sorted_idx = result.importances_mean.argsort()\n",
    "\n",
    "\n",
    "plt.boxplot(\n",
    "    result.importances[perm_sorted_idx].T,\n",
    "    vert=False,\n",
    "    labels=X_dummy1.columns[perm_sorted_idx],\n",
    ")\n",
    "\n",
    "plt.show()"
   ]
  },
  {
   "cell_type": "code",
   "execution_count": 69,
   "id": "fc8c1253",
   "metadata": {},
   "outputs": [
    {
     "name": "stdout",
     "output_type": "stream",
     "text": [
      "percent_ind0.002 +/- 0.001\n"
     ]
    }
   ],
   "source": [
    "from sklearn.inspection import permutation_importance\n",
    "r = permutation_importance(knn_model, X_dummy1, y_train,\n",
    "                            n_repeats=30,\n",
    "                            random_state=0)\n",
    "\n",
    "for i in r.importances_mean.argsort()[::-1]:\n",
    "     if r.importances_mean[i] - 2 * r.importances_std[i] > 0:\n",
    "         print(f\"{X_dummy1.columns[i]:<10}\"\n",
    "               f\"{r.importances_mean[i]:.3f}\"\n",
    "               f\" +/- {r.importances_std[i]:.3f}\")"
   ]
  },
  {
   "cell_type": "markdown",
   "id": "87512bee",
   "metadata": {},
   "source": [
    "Important Features:\n",
    "- "
   ]
  },
  {
   "cell_type": "code",
   "execution_count": 56,
   "id": "da088d88",
   "metadata": {},
   "outputs": [
    {
     "data": {
      "text/plain": [
       "total_percent                                                                             0.308851\n",
       "vol_total                                                                                 0.229836\n",
       "percent_mb                                                                                0.169679\n",
       "estimate_dist_cert_EU                                                                     0.073298\n",
       "num_market                                                                                0.031892\n",
       "estimate_dist_cert_AFR                                                                    0.031403\n",
       "membership_sector_Supply Chain Associate                                                  0.024826\n",
       "membership_category_Ordinary                                                              0.022995\n",
       "estimate_dist_cert_LUS                                                                    0.020089\n",
       "year_use_cert_ismb_yes_no                                                                 0.014563\n",
       "percent_ind                                                                               0.014139\n",
       "percent_mill                                                                              0.012007\n",
       "membership_sector_Social or Development Organisations (Non Governmental Organisations)    0.011704\n",
       "country_sub_North America                                                                 0.011002\n",
       "year_use_100%cert_supplychain_yes_no                                                      0.008759\n",
       "palm_oil_activity_num                                                                     0.007165\n",
       "estimate_dist_cert_INDIA                                                                  0.006775\n",
       "year_use_cert_oil_yes_yes                                                                 0.001015\n",
       "dtype: float64"
      ]
     },
     "execution_count": 56,
     "metadata": {},
     "output_type": "execute_result"
    }
   ],
   "source": [
    "# view the feature scores\n",
    "\n",
    "feature_scores = pd.Series(rf_model.feature_importances_, index=X_dummy1.columns).sort_values(ascending=False)\n",
    "\n",
    "feature_scores"
   ]
  },
  {
   "cell_type": "code",
   "execution_count": 67,
   "id": "83eff8c3",
   "metadata": {},
   "outputs": [
    {
     "data": {
      "image/png": "[encoded data removed]",
      "text/plain": [
       "<Figure size 2160x1728 with 1 Axes>"
      ]
     },
     "metadata": {
      "needs_background": "light"
     },
     "output_type": "display_data"
    }
   ],
   "source": [
    "# Creating a seaborn bar plot\n",
    "\n",
    "f, ax = plt.subplots(figsize=(30, 24))\n",
    "ax = sns.barplot(x=feature_scores, y=feature_scores.index, data=df)\n",
    "ax.set_title(\"Visualize feature scores of the features\")\n",
    "ax.set_yticklabels(feature_scores.index,fontdict = { 'fontsize': 25})\n",
    "ax.set_xlabel(\"Feature importance score\")\n",
    "ax.set_ylabel(\"Features\")\n",
    "\n",
    "plt.show()"
   ]
  },
  {
   "cell_type": "code",
   "execution_count": 68,
   "id": "919e4066",
   "metadata": {},
   "outputs": [
    {
     "data": {
      "text/plain": [
       "Index(['Unnamed: 0.1', 'Unnamed: 0', 'submission_status', 'member_name',\n",
       "       'membership_num', 'membership_sector', 'membership_category', 'country',\n",
       "       'use_palm_oil', 'select_descr_activity', 'palm_oil_activity',\n",
       "       'palm_oil_activity2', 'subsidiary_palm_oil', 'market', 'declare_volume',\n",
       "       'vol_palm_oil', 'vol_palm_kernel', 'vol_palm_kernel_expeller',\n",
       "       'vol_palm_der/fraction', '%palm_oil_der/fract',\n",
       "       '%palm_kernel_der/fract', 'estimate_dist_total_EU',\n",
       "       'estimate_dist_total_NUS', 'estimate_dist_total_MY',\n",
       "       'estimate_dist_total_INDO', 'estimate_dist_total_CH',\n",
       "       'estimate_dist_total_INDIA', 'estimate_dist_total_LUS',\n",
       "       'estimate_dist_total_AFR', 'estimate_dist_total_ROW',\n",
       "       'vol_cert_mill_cspo', 'vol_cert_mill_cspko', 'vol_cert_mill_cspke',\n",
       "       'vol_cert_mill_palm_der/fraction', 'vol_cert_ind_cspo',\n",
       "       'vol_cert_ind_cspko', 'vol_cert_ind_cspke',\n",
       "       'vol_cert_ind_palm_der/fraction', 'vol_cert_mb_cspo',\n",
       "       'vol_cert_mb_cspko', 'vol_cert_mb_cspke',\n",
       "       'vol_cert_mb_palm_der/fraction', 'vol_cert_sg_cspo',\n",
       "       'vol_cert_sg_cspko', 'vol_cert_sg_cspke',\n",
       "       'vol_cert_sg_palm_der/fraction', 'vol_cert_ip_cspo',\n",
       "       'vol_cert_ip_cspko', 'vol_cert_ip_cspke',\n",
       "       'vol_cert_ip_palm_der/fraction', '%cert_palm_oil_der/fract',\n",
       "       '%cert_palm_kernel_der/fract', 'cert_palm_oil_uptake',\n",
       "       'info_cover_rspo_credit', 'estimate_dist_cert_EU',\n",
       "       'estimate_dist_cert_NUS', 'estimate_dist_cert_MY',\n",
       "       'estimate_dist_cert_INDO', 'estimate_dist_cert_CH',\n",
       "       'estimate_dist_cert_INDIA', 'estimate_dist_cert_LUS',\n",
       "       'estimate_dist_cert_AFR', 'estimate_dist_cert_ROW',\n",
       "       'year_achieve_supplycert', 'year_use_cert_oil',\n",
       "       'why_use_cert_oil_not_met', 'year_use_100%cert_supplychain',\n",
       "       'why_use_100%cert_supplychain_not_met', 'year_use_cert_ismb',\n",
       "       'why_use_cert_ismb_not_met', 'why_timebound_not_cover_countries',\n",
       "       'cert_on_behalf', 'timebound_behalf', 'behalf_only_cert',\n",
       "       'why_no_timebound', 'use_rspo_trademark', 'countries_use_trademark',\n",
       "       'year_use_trademark', 'why_no_trademark', 'why_no_trademark2',\n",
       "       'activities_promote', 'year_use_cert_oil_since2007',\n",
       "       'uncert_palm_oil_uptake', 'num_market', 'uptake_binned', 'country_sub',\n",
       "       'select_descr_activity_num', 'palm_oil_activity_num',\n",
       "       'year_use_cert_oil_yes', 'year_achieve_supplycert_yes',\n",
       "       'year_use_cert_ismb_yes', 'year_use_100%cert_supplychain_yes',\n",
       "       'percent_mill', 'percent_ind', 'percent_mb', 'percent_sg', 'percent_ip',\n",
       "       'vol_total', 'uptake_binned_cor'],\n",
       "      dtype='object')"
      ]
     },
     "execution_count": 68,
     "metadata": {},
     "output_type": "execute_result"
    }
   ],
   "source": [
    "df.columns"
   ]
  },
  {
   "cell_type": "code",
   "execution_count": null,
   "id": "0aeb5c79",
   "metadata": {},
   "outputs": [],
   "source": [
    "col = ['percent_mill', 'percent_ind', 'percent_mb', 'percent_sg', 'percent_ip','vol_total',\n",
    "      'estimate_dist_cert_EU',\n",
    "       'estimate_dist_cert_NUS', 'estimate_dist_cert_MY',\n",
    "       'estimate_dist_cert_INDO', 'estimate_dist_cert_CH',\n",
    "       'estimate_dist_cert_INDIA', 'estimate_dist_cert_LUS',\n",
    "       'estimate_dist_cert_AFR', 'estimate_dist_cert_ROW',]"
   ]
  }
 ],
 "metadata": {
  "kernelspec": {
   "display_name": "Python 3 (ipykernel)",
   "language": "python",
   "name": "python3"
  },
  "language_info": {
   "codemirror_mode": {
    "name": "ipython",
    "version": 3
   },
   "file_extension": ".py",
   "mimetype": "text/x-python",
   "name": "python",
   "nbconvert_exporter": "python",
   "pygments_lexer": "ipython3",
   "version": "3.9.12"
  },
  "varInspector": {
   "cols": {
    "lenName": 16,
    "lenType": 16,
    "lenVar": 40
   },
   "kernels_config": {
    "python": {
     "delete_cmd_postfix": "",
     "delete_cmd_prefix": "del ",
     "library": "var_list.py",
     "varRefreshCmd": "print(var_dic_list())"
    },
    "r": {
     "delete_cmd_postfix": ") ",
     "delete_cmd_prefix": "rm(",
     "library": "var_list.r",
     "varRefreshCmd": "cat(var_dic_list()) "
    }
   },
   "types_to_exclude": [
    "module",
    "function",
    "builtin_function_or_method",
    "instance",
    "_Feature"
   ],
   "window_display": false
  }
 },
 "nbformat": 4,
 "nbformat_minor": 5
}
